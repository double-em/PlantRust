{
 "cells": [
  {
   "cell_type": "code",
   "execution_count": 1,
   "metadata": {},
   "outputs": [],
   "source": [
    "!pip install -Uqq fastbook\n",
    "import fastbook\n",
    "fastbook.setup_book()"
   ]
  },
  {
   "cell_type": "code",
   "execution_count": 2,
   "metadata": {},
   "outputs": [],
   "source": [
    "from fastbook import *"
   ]
  },
  {
   "cell_type": "code",
   "execution_count": 3,
   "outputs": [],
   "source": [
    "from fastai.vision.all import *"
   ],
   "metadata": {
    "collapsed": false,
    "pycharm": {
     "name": "#%%\n"
    }
   }
  },
  {
   "cell_type": "code",
   "execution_count": 4,
   "metadata": {},
   "outputs": [],
   "source": [
    "import torch\n",
    "torch.cuda.empty_cache()"
   ]
  },
  {
   "cell_type": "code",
   "execution_count": 5,
   "metadata": {},
   "outputs": [],
   "source": [
    "import pandas as pd\n",
    "import numpy as np\n",
    "import regex as re"
   ]
  },
  {
   "cell_type": "code",
   "execution_count": 6,
   "metadata": {},
   "outputs": [],
   "source": [
    "from fastai.callback.fp16 import *"
   ]
  },
  {
   "cell_type": "code",
   "execution_count": 7,
   "outputs": [],
   "source": [
    "cuda0 = torch.device('cuda:0')\n",
    "cpu = torch.device('cpu')"
   ],
   "metadata": {
    "collapsed": false,
    "pycharm": {
     "name": "#%%\n"
    }
   }
  },
  {
   "cell_type": "code",
   "execution_count": 8,
   "metadata": {},
   "outputs": [],
   "source": [
    "def get_y(r): return parent_label(r).split(\" \")"
   ]
  },
  {
   "cell_type": "code",
   "execution_count": 15,
   "metadata": {},
   "outputs": [],
   "source": [
    "from torch.nn.modules import loss\n",
    "\n",
    "from fastai.losses import *\n",
    "\n",
    "class smooth_binary_cross_entropy(loss._Loss):\n",
    "\n",
    "    def __init__(self, weight: Optional[Tensor] = None, size_average=None, reduce=None, reduction: str = 'mean',\n",
    "             pos_weight: Optional[Tensor] = None) -> None:\n",
    "        super(smooth_binary_cross_entropy, self).__init__(size_average, reduce, reduction)\n",
    "        self.register_buffer('weight', weight)\n",
    "        self.register_buffer('pos_weight', pos_weight)\n",
    "    # def __init__(self,\n",
    "    #              pos_weight: Optional[Tensor] = None,\n",
    "    #              reduction: str = 'mean',\n",
    "    #              thresh=0.5) -> None:\n",
    "    #     store_attr()\n",
    "    #\n",
    "    #     self.pos_weight = pos_weight\n",
    "    #     self.reduction = reduction\n",
    "    #     self.thresh = thresh\n",
    "\n",
    "    # pos_weight = torch.ones(3, device=cuda0)\n",
    "\n",
    "    def forward(self, input: Tensor, target: Tensor) -> Tensor:\n",
    "        c = target.shape[1]\n",
    "        eps = 0.1\n",
    "        smoothed_target = torch.where(target==1, 1-(eps+(eps/c)), eps/c)\n",
    "        return F.binary_cross_entropy_with_logits(input,\n",
    "                                                  smoothed_target,\n",
    "                                                  pos_weight=self.pos_weight,\n",
    "                                                  reduction=self.reduction)\n",
    "\n",
    "    # def activation(self, x): return torch.sigmoid(x)\n",
    "\n",
    "@delegates()\n",
    "class smooth_loss_v2(BaseLoss):\n",
    "    \"Same as `nn.BCEWithLogitsLoss`, but flattens input and target.\"\n",
    "    @use_kwargs_dict(keep=True, weight=None, reduction='mean', pos_weight=None)\n",
    "    def __init__(self, *args, axis=-1, floatify=True, thresh=0.5, **kwargs):\n",
    "        if kwargs.get('pos_weight', None) is not None and kwargs.get('flatten', None) is True:\n",
    "            raise ValueError(\"`flatten` must be False when using `pos_weight` to avoid a RuntimeError due to shape mismatch\")\n",
    "        if kwargs.get('pos_weight', None) is not None: kwargs['flatten'] = False\n",
    "        super().__init__(smooth_binary_cross_entropy, *args, axis=axis, floatify=floatify, is_2d=False, **kwargs)\n",
    "        self.thresh = thresh\n",
    "\n",
    "    def decodes(self, x):    return x>self.thresh\n",
    "    def activation(self, x): return torch.sigmoid(x)"
   ]
  },
  {
   "cell_type": "code",
   "execution_count": 10,
   "outputs": [],
   "source": [
    "path = Path(\"../data/test\")"
   ],
   "metadata": {
    "collapsed": false,
    "pycharm": {
     "name": "#%%\n"
    }
   }
  },
  {
   "cell_type": "code",
   "execution_count": 11,
   "outputs": [
    {
     "data": {
      "text/plain": "(#610) [Path('../data/test/008FWT.JPG'),Path('../data/test/00AQXY.JPG'),Path('../data/test/01OJZX.JPG'),Path('../data/test/07OXKK.jfif'),Path('../data/test/085IEC.jpg'),Path('../data/test/08O2YE.JPG'),Path('../data/test/08WLJO.jfif'),Path('../data/test/0E1VTP.jfif'),Path('../data/test/0GJFRQ.JPG'),Path('../data/test/0J3PQ7.JPG')...]"
     },
     "execution_count": 11,
     "metadata": {},
     "output_type": "execute_result"
    }
   ],
   "source": [
    "images = get_image_files(path)\n",
    "images"
   ],
   "metadata": {
    "collapsed": false,
    "pycharm": {
     "name": "#%%\n"
    }
   }
  },
  {
   "cell_type": "code",
   "execution_count": 12,
   "outputs": [
    {
     "data": {
      "text/plain": "'008FWT.JPG'"
     },
     "execution_count": 12,
     "metadata": {},
     "output_type": "execute_result"
    }
   ],
   "source": [
    "images[0].name"
   ],
   "metadata": {
    "collapsed": false,
    "pycharm": {
     "name": "#%%\n"
    }
   }
  },
  {
   "cell_type": "code",
   "execution_count": 16,
   "metadata": {},
   "outputs": [],
   "source": [
    "models_dir = Path('../models/exported')\n",
    "learn_inf = load_learner(models_dir/\"142537_resnet50_B64S460.pkl\", cpu=False)"
   ]
  },
  {
   "cell_type": "code",
   "execution_count": null,
   "metadata": {},
   "outputs": [],
   "source": [
    "def get_dls() -> DataBlock:\n",
    "    dblock = DataBlock(blocks=(ImageBlock),\n",
    "                       item_tfms=Resize(460))\n",
    "\n",
    "    return dblock.dataloaders(images, num_workers=0)\n",
    "\n",
    "dls = get_dls()"
   ]
  },
  {
   "cell_type": "code",
   "execution_count": null,
   "outputs": [],
   "source": [
    "# tfms = [PILImage.create]\n",
    "# dsets = Datasets(images, tfms=tfms, train_setup=False)\n",
    "# dls = dsets.dataloaders(after_item=[Resize(460), ToTensor(), IntToFloatTensor()])"
   ],
   "metadata": {
    "collapsed": false,
    "pycharm": {
     "name": "#%%\n"
    }
   }
  },
  {
   "cell_type": "code",
   "execution_count": 17,
   "outputs": [],
   "source": [
    "test_dl = learn_inf.dls.test_dl(images)"
   ],
   "metadata": {
    "collapsed": false,
    "pycharm": {
     "name": "#%%\n"
    }
   }
  },
  {
   "cell_type": "code",
   "execution_count": null,
   "outputs": [],
   "source": [
    "# tst = test_set(dsets, images)"
   ],
   "metadata": {
    "collapsed": false,
    "pycharm": {
     "name": "#%%\n"
    }
   }
  },
  {
   "cell_type": "code",
   "execution_count": 18,
   "outputs": [],
   "source": [
    "with learn_inf.no_bar():\n",
    "    predictions, _ = learn_inf.tta(dl=test_dl)"
   ],
   "metadata": {
    "collapsed": false,
    "pycharm": {
     "name": "#%%\n"
    }
   }
  },
  {
   "cell_type": "code",
   "execution_count": 19,
   "outputs": [
    {
     "data": {
      "text/plain": "610"
     },
     "execution_count": 19,
     "metadata": {},
     "output_type": "execute_result"
    }
   ],
   "source": [
    "len(predictions)"
   ],
   "metadata": {
    "collapsed": false,
    "pycharm": {
     "name": "#%%\n"
    }
   }
  },
  {
   "cell_type": "code",
   "execution_count": 20,
   "outputs": [],
   "source": [
    "image_ids = [image.name.split(\".\")[0] for image in images]\n",
    "preds = [[leaf_rust.item(), stem_rust.item(), healthy_wheat.item()] for healthy_wheat, stem_rust, leaf_rust in predictions]\n",
    "df = pd.DataFrame(preds, columns=('leaf_rust', 'stem_rust', 'healthy_wheat'), index=image_ids)\n",
    "df.index.name = \"ID\""
   ],
   "metadata": {
    "collapsed": false,
    "pycharm": {
     "name": "#%%\n"
    }
   }
  },
  {
   "cell_type": "code",
   "execution_count": 21,
   "metadata": {
    "pycharm": {
     "name": "#%%\n"
    }
   },
   "outputs": [],
   "source": [
    "df = df.round(decimals=2)"
   ]
  },
  {
   "cell_type": "code",
   "execution_count": 23,
   "metadata": {},
   "outputs": [],
   "source": [
    "df.to_csv(Path(\"answer.csv\"))"
   ]
  },
  {
   "cell_type": "code",
   "execution_count": 22,
   "metadata": {},
   "outputs": [
    {
     "data": {
      "text/plain": "        leaf_rust  stem_rust  healthy_wheat\nID                                         \n008FWT       0.14       0.84           0.27\n00AQXY       0.89       0.15           0.24\n01OJZX       0.23       0.69           0.28\n07OXKK       0.20       0.37           0.73\n085IEC       0.50       0.03           0.77\n...           ...        ...            ...\nZKF0L9       0.23       0.89           0.21\nZMAB3R       0.55       0.52           0.29\nZOXDKA       0.52       0.13           0.30\nZSZMOS       0.34       0.63           0.28\nZTWSDG       0.55       0.57           0.23\n\n[610 rows x 3 columns]",
      "text/html": "<div>\n<style scoped>\n    .dataframe tbody tr th:only-of-type {\n        vertical-align: middle;\n    }\n\n    .dataframe tbody tr th {\n        vertical-align: top;\n    }\n\n    .dataframe thead th {\n        text-align: right;\n    }\n</style>\n<table border=\"1\" class=\"dataframe\">\n  <thead>\n    <tr style=\"text-align: right;\">\n      <th></th>\n      <th>leaf_rust</th>\n      <th>stem_rust</th>\n      <th>healthy_wheat</th>\n    </tr>\n    <tr>\n      <th>ID</th>\n      <th></th>\n      <th></th>\n      <th></th>\n    </tr>\n  </thead>\n  <tbody>\n    <tr>\n      <th>008FWT</th>\n      <td>0.14</td>\n      <td>0.84</td>\n      <td>0.27</td>\n    </tr>\n    <tr>\n      <th>00AQXY</th>\n      <td>0.89</td>\n      <td>0.15</td>\n      <td>0.24</td>\n    </tr>\n    <tr>\n      <th>01OJZX</th>\n      <td>0.23</td>\n      <td>0.69</td>\n      <td>0.28</td>\n    </tr>\n    <tr>\n      <th>07OXKK</th>\n      <td>0.20</td>\n      <td>0.37</td>\n      <td>0.73</td>\n    </tr>\n    <tr>\n      <th>085IEC</th>\n      <td>0.50</td>\n      <td>0.03</td>\n      <td>0.77</td>\n    </tr>\n    <tr>\n      <th>...</th>\n      <td>...</td>\n      <td>...</td>\n      <td>...</td>\n    </tr>\n    <tr>\n      <th>ZKF0L9</th>\n      <td>0.23</td>\n      <td>0.89</td>\n      <td>0.21</td>\n    </tr>\n    <tr>\n      <th>ZMAB3R</th>\n      <td>0.55</td>\n      <td>0.52</td>\n      <td>0.29</td>\n    </tr>\n    <tr>\n      <th>ZOXDKA</th>\n      <td>0.52</td>\n      <td>0.13</td>\n      <td>0.30</td>\n    </tr>\n    <tr>\n      <th>ZSZMOS</th>\n      <td>0.34</td>\n      <td>0.63</td>\n      <td>0.28</td>\n    </tr>\n    <tr>\n      <th>ZTWSDG</th>\n      <td>0.55</td>\n      <td>0.57</td>\n      <td>0.23</td>\n    </tr>\n  </tbody>\n</table>\n<p>610 rows × 3 columns</p>\n</div>"
     },
     "execution_count": 22,
     "metadata": {},
     "output_type": "execute_result"
    }
   ],
   "source": [
    "df"
   ]
  }
 ],
 "metadata": {
  "kernelspec": {
   "display_name": "Python 3",
   "language": "python",
   "name": "python3"
  },
  "language_info": {
   "codemirror_mode": {
    "name": "ipython",
    "version": 3
   },
   "file_extension": ".py",
   "mimetype": "text/x-python",
   "name": "python",
   "nbconvert_exporter": "python",
   "pygments_lexer": "ipython3",
   "version": "3.8.5"
  }
 },
 "nbformat": 4,
 "nbformat_minor": 2
}