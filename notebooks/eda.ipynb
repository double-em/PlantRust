{
 "cells": [
  {
   "cell_type": "code",
   "execution_count": 1,
   "metadata": {},
   "outputs": [],
   "source": [
    "import fastbook\n",
    "fastbook.setup_book()"
   ]
  },
  {
   "cell_type": "code",
   "execution_count": 2,
   "metadata": {},
   "outputs": [],
   "source": [
    "from fastbook import *\n",
    "from fastai.vision.widgets import *\n",
    "from fastai.callback.tensorboard import *"
   ]
  },
  {
   "cell_type": "code",
   "execution_count": 3,
   "metadata": {},
   "outputs": [],
   "source": [
    "import torch\n",
    "torch.cuda.empty_cache()"
   ]
  },
  {
   "cell_type": "code",
   "execution_count": 4,
   "metadata": {},
   "outputs": [],
   "source": [
    "import datetime\n",
    "import pandas as pd\n",
    "import numpy as np"
   ]
  },
  {
   "cell_type": "code",
   "execution_count": 5,
   "metadata": {},
   "outputs": [],
   "source": [
    "path = Path('../data/train')"
   ]
  },
  {
   "cell_type": "code",
   "execution_count": 6,
   "metadata": {},
   "outputs": [
    {
     "data": {
      "text/plain": "(#3) [Path('../data/train/healthy_wheat'),Path('../data/train/leaf_rust'),Path('../data/train/stem_rust')]"
     },
     "execution_count": 6,
     "metadata": {},
     "output_type": "execute_result"
    }
   ],
   "source": [
    "path.ls()"
   ]
  },
  {
   "cell_type": "code",
   "execution_count": 7,
   "metadata": {},
   "outputs": [],
   "source": [
    "def sort_image_by_dimensions(path, size):\n",
    "    w, h = Image.open(path).size\n",
    "    return w >= size and h >= size"
   ]
  },
  {
   "cell_type": "code",
   "execution_count": 8,
   "metadata": {},
   "outputs": [],
   "source": [
    "image_size = 460"
   ]
  },
  {
   "cell_type": "code",
   "execution_count": 9,
   "outputs": [],
   "source": [
    "cbs = TensorBoardCallback(projector=True)"
   ],
   "metadata": {
    "collapsed": false,
    "pycharm": {
     "name": "#%%\n"
    }
   }
  },
  {
   "cell_type": "code",
   "execution_count": 10,
   "metadata": {},
   "outputs": [],
   "source": [
    "def correct_sized_images(path):\n",
    "    return [img for img in get_image_files(path) if sort_image_by_dimensions(img, image_size)]"
   ]
  },
  {
   "cell_type": "code",
   "execution_count": 11,
   "metadata": {},
   "outputs": [],
   "source": [
    "def get_y(r): return parent_label(r).split(\" \")"
   ]
  },
  {
   "cell_type": "code",
   "execution_count": 12,
   "metadata": {},
   "outputs": [],
   "source": [
    "def get_dls(bs, size):\n",
    "    dblock = DataBlock(blocks=(ImageBlock, MultiCategoryBlock),\n",
    "                        splitter=RandomSplitter(seed=42),\n",
    "                        get_items=correct_sized_images,\n",
    "                        get_y=get_y,\n",
    "                        item_tfms=Resize(image_size),\n",
    "                        batch_tfms=aug_transforms(size=size, min_scale=0.75))\n",
    "\n",
    "    return dblock.dataloaders(path, bs=bs, num_workers=0)"
   ]
  },
  {
   "cell_type": "code",
   "execution_count": 13,
   "metadata": {},
   "outputs": [],
   "source": [
    "batch_size = 64\n",
    "dls = get_dls(batch_size, 64)"
   ]
  },
  {
   "cell_type": "code",
   "execution_count": 14,
   "metadata": {},
   "outputs": [],
   "source": [
    "# dls.show_batch(max_n=4, nrows=1)"
   ]
  },
  {
   "cell_type": "code",
   "execution_count": 15,
   "metadata": {},
   "outputs": [],
   "source": [
    "# man_in = tensor([[-3.4, 1.8, -3.4],\n",
    "#                  [0.6104, -1.1992, -2.6289]], dtype=torch.double)\n",
    "#\n",
    "# man_targ = tensor([[0, 1, 0],\n",
    "#                    [0, 1, 0]], dtype=torch.double)"
   ]
  },
  {
   "cell_type": "code",
   "execution_count": 16,
   "outputs": [],
   "source": [
    "# x,y = dls.train.one_batch()"
   ],
   "metadata": {
    "collapsed": false,
    "pycharm": {
     "name": "#%%\n"
    }
   }
  },
  {
   "cell_type": "code",
   "execution_count": 17,
   "outputs": [],
   "source": [
    "cuda0 = torch.device('cuda:0')\n",
    "cpu = torch.device('cpu')"
   ],
   "metadata": {
    "collapsed": false,
    "pycharm": {
     "name": "#%%\n"
    }
   }
  },
  {
   "cell_type": "code",
   "execution_count": 37,
   "metadata": {},
   "outputs": [],
   "source": [
    "from torch.nn.modules import loss\n",
    "\n",
    "from fastai.losses import *\n",
    "\n",
    "class smooth_binary_cross_entropy(loss._Loss):\n",
    "\n",
    "    def __init__(self, weight: Optional[Tensor] = None, size_average=None, reduce=None, reduction: str = 'mean',\n",
    "             pos_weight: Optional[Tensor] = None) -> None:\n",
    "        super(smooth_binary_cross_entropy, self).__init__(size_average, reduce, reduction)\n",
    "        self.register_buffer('weight', weight)\n",
    "        self.register_buffer('pos_weight', pos_weight)\n",
    "    # def __init__(self,\n",
    "    #              pos_weight: Optional[Tensor] = None,\n",
    "    #              reduction: str = 'mean',\n",
    "    #              thresh=0.5) -> None:\n",
    "    #     store_attr()\n",
    "    #\n",
    "    #     self.pos_weight = pos_weight\n",
    "    #     self.reduction = reduction\n",
    "    #     self.thresh = thresh\n",
    "\n",
    "    # pos_weight = torch.ones(3, device=cuda0)\n",
    "\n",
    "    def forward(self, input: Tensor, target: Tensor) -> Tensor:\n",
    "        c = target.shape[1]\n",
    "        eps = 0.1\n",
    "        smoothed_target = torch.where(target==1, 1-(eps+(eps/c)), eps/c)\n",
    "        return F.binary_cross_entropy_with_logits(input,\n",
    "                                                  smoothed_target,\n",
    "                                                  pos_weight=self.pos_weight,\n",
    "                                                  reduction=self.reduction)\n",
    "\n",
    "    # def activation(self, x): return torch.sigmoid(x)\n",
    "\n",
    "@delegates()\n",
    "class smooth_loss_v2(BaseLoss):\n",
    "    \"Same as `nn.BCEWithLogitsLoss`, but flattens input and target.\"\n",
    "    @use_kwargs_dict(keep=True, weight=None, reduction='mean', pos_weight=None)\n",
    "    def __init__(self, *args, axis=-1, floatify=True, thresh=0.5, **kwargs):\n",
    "        if kwargs.get('pos_weight', None) is not None and kwargs.get('flatten', None) is True:\n",
    "            raise ValueError(\"`flatten` must be False when using `pos_weight` to avoid a RuntimeError due to shape mismatch\")\n",
    "        if kwargs.get('pos_weight', None) is not None: kwargs['flatten'] = False\n",
    "        super().__init__(smooth_binary_cross_entropy, *args, axis=axis, floatify=floatify, is_2d=False, **kwargs)\n",
    "        self.thresh = thresh\n",
    "\n",
    "    def decodes(self, x):    return x>self.thresh\n",
    "    def activation(self, x): return torch.sigmoid(x)\n",
    "\n",
    "    # device = inputs.device\n",
    "    #\n",
    "    # c = targets.shape[1]\n",
    "    # eps = 0.1\n",
    "    # threshold = 0.5\n",
    "\n",
    "\n",
    "\n",
    "    # inputs_sig = inputs.sigmoid()\n",
    "    \n",
    "    # print(f\"inputs_sig:\\n{inputs_sig}\\n\")\n",
    "\n",
    "\n",
    "\n",
    "    # smoothed_targets = torch.where(targets==1, 1-(eps+(eps/c)), eps/c)\n",
    "    #\n",
    "    # pos_weight = torch.ones(3, device=device)\n",
    "    #\n",
    "    # tst = BCEWithLogitsLossFlat(pos_weight=pos_weight)\n",
    "    # loss = tst(inputs, smoothed_targets)\n",
    "\n",
    "\n",
    "\n",
    "    # smoothed_targets_two = targets * (1.0 - eps) + 0.5 * eps\n",
    "    \n",
    "    # loss = activs/smoothed_targets\n",
    "    \n",
    "    # print(f\"smoothed_targets:\\n{smoothed_targets}\\n\")\n",
    "    # print(f\"targets:\\n{targets}\\n\")\n",
    "    # print(f\"divided:\\n{(inputs_sig/smoothed_targets)}\\n\")\n",
    "\n",
    "    # pred = torch.sigmoid(inputs)\n",
    "    # bce_loss_yang_zhang = -(pred.log()*smoothed_targets + (1-smoothed_targets)*(1-pred).log()).mean()\n",
    "    # return bce_loss_yang_zhang\n",
    "    # print(bce_loss_yang_zhang)\n",
    "    \n",
    "#     bce_loss = -torch.where(targets==1, inputs_sig, 1-inputs_sig).log().mean()\n",
    "#     loss = -torch.where(targets==1, (inputs_sig/smoothed_targets), (inputs_sig/smoothed_targets)).log()\n",
    "#     loss = -(inputs_sig/smoothed_targets).log()\n",
    "    \n",
    "#     print(f\"bce_loss: {bce_loss}\")\n",
    "#     print(f\"bce_loss_smoothed: {bce_loss_smoothed}\")\n",
    "#     print(f\"bce_res: {bce_res}\")\n",
    "    \n",
    "    # return F.binary_cross_entropy_with_logits(inputs, smoothed_targets)\n",
    "#     return F.binary_cross_entropy_with_logits(inputs, targets, reduction='none')\n",
    "#     return loss\n",
    "#     return loss*(eps/c)+(1-eps)"
   ]
  },
  {
   "cell_type": "code",
   "execution_count": 19,
   "metadata": {},
   "outputs": [],
   "source": [
    "# smooth_binary_cross_entropy(man_in, man_targ)"
   ]
  },
  {
   "cell_type": "code",
   "execution_count": 19,
   "metadata": {},
   "outputs": [],
   "source": []
  },
  {
   "cell_type": "code",
   "execution_count": 42,
   "metadata": {},
   "outputs": [],
   "source": [
    "pos_weight = torch.ones(3, device=cuda0)\n",
    "# tst = BCEWithLogitsLossFlat(pos_weight=pos_weight, reduction='none')\n",
    "# tst(man_in, man_targ)"
   ]
  },
  {
   "cell_type": "code",
   "execution_count": 21,
   "metadata": {},
   "outputs": [],
   "source": [
    "# F.binary_cross_entropy_with_logits??"
   ]
  },
  {
   "cell_type": "code",
   "execution_count": 45,
   "metadata": {},
   "outputs": [],
   "source": [
    "from fastai.callback.fp16 import *\n",
    "learn = cnn_learner(dls,\n",
    "                    resnet50,\n",
    "                    metrics=partial(accuracy_multi, thresh=0.2),\n",
    "                    loss_func=smooth_loss_v2(pos_weight=pos_weight))"
   ]
  },
  {
   "cell_type": "code",
   "execution_count": 23,
   "metadata": {},
   "outputs": [],
   "source": [
    "# print(x.shape)\n",
    "# activs = learn.model(x)\n",
    "# activs.shape"
   ]
  },
  {
   "cell_type": "code",
   "execution_count": 24,
   "metadata": {},
   "outputs": [],
   "source": [
    "# activs[0],y[0]"
   ]
  },
  {
   "cell_type": "code",
   "execution_count": 25,
   "metadata": {},
   "outputs": [],
   "source": [
    "# loss_func = nn.BCEWithLogitsLoss(reduction='none')\n",
    "# loss = loss_func(activs,y)\n",
    "# loss"
   ]
  },
  {
   "cell_type": "code",
   "execution_count": 26,
   "metadata": {},
   "outputs": [],
   "source": [
    "# smooth_binary_cross_entropy(activs[0],y[0])"
   ]
  },
  {
   "cell_type": "code",
   "execution_count": 27,
   "metadata": {},
   "outputs": [],
   "source": [
    "# preds,_ = learn.get_preds(dl=[(x,y)])\n",
    "# print(preds[0],preds[0].sum())\n",
    "# print(y[0])"
   ]
  },
  {
   "cell_type": "code",
   "execution_count": 28,
   "metadata": {},
   "outputs": [],
   "source": [
    "# print(F.binary_cross_entropy_with_logits(preds, y))"
   ]
  },
  {
   "cell_type": "code",
   "execution_count": 29,
   "metadata": {},
   "outputs": [],
   "source": [
    "# smooth_binary_cross_entropy(preds, y)"
   ]
  },
  {
   "cell_type": "code",
   "execution_count": 30,
   "metadata": {},
   "outputs": [],
   "source": [
    "# F.binary_cross_entropy_with_logits??"
   ]
  },
  {
   "cell_type": "code",
   "execution_count": 31,
   "metadata": {},
   "outputs": [],
   "source": [
    "#learn.lr_find()"
   ]
  },
  {
   "cell_type": "code",
   "execution_count": 32,
   "metadata": {},
   "outputs": [],
   "source": [
    "# with learn.no_bar():\n",
    "#     learn.fine_tune(1, freeze_epochs=0)"
   ]
  },
  {
   "cell_type": "code",
   "execution_count": 46,
   "metadata": {},
   "outputs": [
    {
     "name": "stdout",
     "output_type": "stream",
     "text": [
      "[0, 0.9599149823188782, 0.7530781626701355, 0.3641975522041321, '01:20']\n",
      "[1, 0.9326222538948059, 0.7398741245269775, 0.46296295523643494, '01:20']\n",
      "[2, 0.9154893159866333, 0.739974856376648, 0.5771605372428894, '01:20']\n",
      "[0, 0.7882170081138611, 0.7008023262023926, 0.5524691343307495, '01:21']\n",
      "[1, 0.7367362976074219, 0.6399116516113281, 0.5771605372428894, '01:19']\n",
      "[2, 0.7228783369064331, 0.6352909207344055, 0.6172839999198914, '01:21']\n",
      "[3, 0.7082855105400085, 0.598501980304718, 0.6358025074005127, '01:21']\n",
      "[4, 0.6930506825447083, 0.597619891166687, 0.6234568357467651, '01:20']\n",
      "[5, 0.6688598990440369, 0.7240462303161621, 0.6234568357467651, '01:20']\n",
      "[6, 0.6409136652946472, 0.6546778082847595, 0.6296296119689941, '01:20']\n",
      "[7, 0.6221668124198914, 0.6046907901763916, 0.6358025074005127, '01:19']\n",
      "[8, 0.6020547747612, 0.5802660584449768, 0.654321014881134, '01:20']\n",
      "[9, 0.5853248238563538, 0.5712122321128845, 0.6635802984237671, '01:20']\n"
     ]
    }
   ],
   "source": [
    "with learn.no_bar():\n",
    "    learn.fine_tune(10, freeze_epochs=3)"
   ]
  },
  {
   "cell_type": "code",
   "execution_count": null,
   "metadata": {},
   "outputs": [],
   "source": [
    "learn.dls = get_dls(batch_size, 128)"
   ]
  },
  {
   "cell_type": "code",
   "execution_count": null,
   "metadata": {},
   "outputs": [],
   "source": [
    "with learn.no_bar():\n",
    "    learn.fine_tune(10)"
   ]
  },
  {
   "cell_type": "code",
   "execution_count": null,
   "metadata": {},
   "outputs": [],
   "source": [
    "learn.dls = get_dls(batch_size, 256)"
   ]
  },
  {
   "cell_type": "code",
   "execution_count": null,
   "metadata": {},
   "outputs": [],
   "source": [
    "with learn.no_bar():\n",
    "    learn.fine_tune(40)"
   ]
  },
  {
   "cell_type": "code",
   "execution_count": 47,
   "metadata": {},
   "outputs": [
    {
     "data": {
      "text/plain": "FlattenedLoss of smooth_binary_cross_entropy()"
     },
     "execution_count": 47,
     "metadata": {},
     "output_type": "execute_result"
    }
   ],
   "source": [
    "learn.loss_func"
   ]
  },
  {
   "cell_type": "code",
   "execution_count": 48,
   "metadata": {},
   "outputs": [
    {
     "data": {
      "text/plain": "<Figure size 432x288 with 1 Axes>",
      "image/png": "[encoded data removed]"
     },
     "metadata": {
      "needs_background": "light"
     },
     "output_type": "display_data"
    }
   ],
   "source": [
    "learn.recorder.plot_loss()"
   ]
  },
  {
   "cell_type": "code",
   "execution_count": 49,
   "metadata": {},
   "outputs": [],
   "source": [
    "x,y = dls.one_batch()"
   ]
  },
  {
   "cell_type": "code",
   "execution_count": 50,
   "metadata": {},
   "outputs": [
    {
     "data": {
      "text/plain": "<IPython.core.display.HTML object>",
      "text/html": "\n    <div>\n        <style>\n            /* Turns off some styling */\n            progress {\n                /* gets rid of default border in Firefox and Opera. */\n                border: none;\n                /* Needs to be in here for Safari polyfill so background images work as expected. */\n                background-size: auto;\n            }\n            .progress-bar-interrupted, .progress-bar-interrupted::-webkit-progress-bar {\n                background: #F44336;\n            }\n        </style>\n      <progress value='0' class='' max='1' style='width:300px; height:20px; vertical-align: middle;'></progress>\n      \n    </div>\n    "
     },
     "metadata": {},
     "output_type": "display_data"
    },
    {
     "name": "stdout",
     "output_type": "stream",
     "text": [
      "tensor([0.0707, 0.8691, 0.2792]) TensorMultiCategory([0., 1., 0.])\n"
     ]
    }
   ],
   "source": [
    "import random as rnd\n",
    "\n",
    "preds,t = learn.get_preds(dl=[(x,y)])\n",
    "rand_idx = rnd.randint(0, len(preds))-1\n",
    "print(preds[rand_idx], t[rand_idx])"
   ]
  },
  {
   "cell_type": "code",
   "execution_count": 51,
   "metadata": {},
   "outputs": [
    {
     "data": {
      "text/plain": "tensor(1.1680)"
     },
     "execution_count": 51,
     "metadata": {},
     "output_type": "execute_result"
    }
   ],
   "source": [
    "preds[0].sum()"
   ]
  },
  {
   "cell_type": "code",
   "execution_count": 52,
   "metadata": {},
   "outputs": [
    {
     "data": {
      "text/plain": "torch.Size([64, 3])"
     },
     "execution_count": 52,
     "metadata": {},
     "output_type": "execute_result"
    }
   ],
   "source": [
    "learn.model(x).shape"
   ]
  },
  {
   "cell_type": "code",
   "execution_count": 55,
   "metadata": {},
   "outputs": [],
   "source": [
    "model_name = \"resnet50\"\n",
    "time_now = datetime.datetime.now().strftime(format='%H%M%S')\n",
    "\n",
    "export_path = Path('../models/exported')\n",
    "\n",
    "model_filename = export_path/f\"{time_now}_{model_name}_B{batch_size}S{image_size}.pkl\"\n",
    "learn.export(fname=model_filename)"
   ]
  },
  {
   "cell_type": "code",
   "execution_count": null,
   "metadata": {},
   "outputs": [],
   "source": [
    "learn.dls.vocab"
   ]
  }
 ],
 "metadata": {
  "kernelspec": {
   "name": "python3",
   "language": "python",
   "display_name": "Python 3"
  },
  "language_info": {
   "codemirror_mode": {
    "name": "ipython",
    "version": 3
   },
   "file_extension": ".py",
   "mimetype": "text/x-python",
   "name": "python",
   "nbconvert_exporter": "python",
   "pygments_lexer": "ipython3",
   "version": "3.8.5"
  }
 },
 "nbformat": 4,
 "nbformat_minor": 4
}